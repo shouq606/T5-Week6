{
  "cells": [
    {
      "cell_type": "markdown",
      "id": "fd8284c7",
      "metadata": {
        "id": "fd8284c7"
      },
      "source": [
        "# Road Traffic Vehicle Counting Exam"
      ]
    },
    {
      "cell_type": "markdown",
      "id": "90e8c1a5",
      "metadata": {
        "id": "90e8c1a5"
      },
      "source": [
        "In this exam, you will use the YOLO (You Only Look Once) object detection model to analyze a video of road traffic. Your primary task is to count the number of vehicles exiting the road at each of the four exits (located at the top, bottom, left, and right of the frame). The video for this task is provided at `Datasets/YOLO_Exam_Video.mp4`.\n",
        "\n",
        "## Objectives\n",
        "- Load and process the video using OpenCV.\n",
        "- Utilize the YOLO model to detect vehicles in each frame.\n",
        "- Manipulate the video frames using OpenCV.\n",
        "- Track vehicles as they move across the video frames.\n",
        "- Count the number of vehicles exiting via the top street.\n",
        "- Count the number of vehicles exiting via the bottom street.\n",
        "- Count the number of vehicles exiting via the left street.\n",
        "- Count the number of vehicles exiting via the right street.\n"
      ]
    },
    {
      "cell_type": "markdown",
      "id": "c7269b0e",
      "metadata": {
        "id": "c7269b0e"
      },
      "source": [
        "## Setup Environment"
      ]
    },
    {
      "cell_type": "markdown",
      "id": "2fd3bce8",
      "metadata": {
        "id": "2fd3bce8"
      },
      "source": [
        "Before you begin, ensure you have the necessary libraries installed. You will need `opencv`, and `ultralytics` among others.\n",
        "If these are not installed, you should install them."
      ]
    },
    {
      "cell_type": "code",
      "execution_count": 1,
      "id": "e48a05c4",
      "metadata": {
        "vscode": {
          "languageId": "plaintext"
        },
        "id": "e48a05c4",
        "outputId": "ada38f02-2dba-4eec-d164-82005590dd1d",
        "colab": {
          "base_uri": "https://localhost:8080/"
        }
      },
      "outputs": [
        {
          "output_type": "stream",
          "name": "stdout",
          "text": [
            "Requirement already satisfied: opencv-python in /usr/local/lib/python3.10/dist-packages (4.10.0.84)\n",
            "Requirement already satisfied: numpy>=1.21.2 in /usr/local/lib/python3.10/dist-packages (from opencv-python) (1.26.4)\n"
          ]
        }
      ],
      "source": [
        "# prompt: library opencv\n",
        "\n",
        "!pip install opencv-python\n"
      ]
    },
    {
      "cell_type": "code",
      "source": [
        "!pip install ultralytics\n",
        "!pip install opencv-p"
      ],
      "metadata": {
        "id": "L7_PNW1CL86m",
        "collapsed": true,
        "outputId": "2e87d03d-1f73-4636-ebfb-d90245f12c6c",
        "colab": {
          "base_uri": "https://localhost:8080/"
        }
      },
      "id": "L7_PNW1CL86m",
      "execution_count": 2,
      "outputs": [
        {
          "output_type": "stream",
          "name": "stdout",
          "text": [
            "Collecting ultralytics\n",
            "  Downloading ultralytics-8.2.85-py3-none-any.whl.metadata (41 kB)\n",
            "\u001b[?25l     \u001b[90m━━━━━━━━━━━━━━━━━━━━━━━━━━━━━━━━━━━━━━━━\u001b[0m \u001b[32m0.0/41.8 kB\u001b[0m \u001b[31m?\u001b[0m eta \u001b[36m-:--:--\u001b[0m\r\u001b[2K     \u001b[91m━━━━━━━━━━━━━━━━━━━━━━━━━━━━━━━━━━━━━━━\u001b[0m\u001b[90m╺\u001b[0m \u001b[32m41.0/41.8 kB\u001b[0m \u001b[31m3.6 MB/s\u001b[0m eta \u001b[36m0:00:01\u001b[0m\r\u001b[2K     \u001b[90m━━━━━━━━━━━━━━━━━━━━━━━━━━━━━━━━━━━━━━━━\u001b[0m \u001b[32m41.8/41.8 kB\u001b[0m \u001b[31m658.0 kB/s\u001b[0m eta \u001b[36m0:00:00\u001b[0m\n",
            "\u001b[?25hRequirement already satisfied: numpy<2.0.0,>=1.23.0 in /usr/local/lib/python3.10/dist-packages (from ultralytics) (1.26.4)\n",
            "Requirement already satisfied: matplotlib>=3.3.0 in /usr/local/lib/python3.10/dist-packages (from ultralytics) (3.7.1)\n",
            "Requirement already satisfied: opencv-python>=4.6.0 in /usr/local/lib/python3.10/dist-packages (from ultralytics) (4.10.0.84)\n",
            "Requirement already satisfied: pillow>=7.1.2 in /usr/local/lib/python3.10/dist-packages (from ultralytics) (9.4.0)\n",
            "Requirement already satisfied: pyyaml>=5.3.1 in /usr/local/lib/python3.10/dist-packages (from ultralytics) (6.0.2)\n",
            "Requirement already satisfied: requests>=2.23.0 in /usr/local/lib/python3.10/dist-packages (from ultralytics) (2.32.3)\n",
            "Requirement already satisfied: scipy>=1.4.1 in /usr/local/lib/python3.10/dist-packages (from ultralytics) (1.13.1)\n",
            "Requirement already satisfied: torch>=1.8.0 in /usr/local/lib/python3.10/dist-packages (from ultralytics) (2.4.0+cu121)\n",
            "Requirement already satisfied: torchvision>=0.9.0 in /usr/local/lib/python3.10/dist-packages (from ultralytics) (0.19.0+cu121)\n",
            "Requirement already satisfied: tqdm>=4.64.0 in /usr/local/lib/python3.10/dist-packages (from ultralytics) (4.66.5)\n",
            "Requirement already satisfied: psutil in /usr/local/lib/python3.10/dist-packages (from ultralytics) (5.9.5)\n",
            "Requirement already satisfied: py-cpuinfo in /usr/local/lib/python3.10/dist-packages (from ultralytics) (9.0.0)\n",
            "Requirement already satisfied: pandas>=1.1.4 in /usr/local/lib/python3.10/dist-packages (from ultralytics) (2.1.4)\n",
            "Requirement already satisfied: seaborn>=0.11.0 in /usr/local/lib/python3.10/dist-packages (from ultralytics) (0.13.1)\n",
            "Collecting ultralytics-thop>=2.0.0 (from ultralytics)\n",
            "  Downloading ultralytics_thop-2.0.6-py3-none-any.whl.metadata (9.1 kB)\n",
            "Requirement already satisfied: contourpy>=1.0.1 in /usr/local/lib/python3.10/dist-packages (from matplotlib>=3.3.0->ultralytics) (1.2.1)\n",
            "Requirement already satisfied: cycler>=0.10 in /usr/local/lib/python3.10/dist-packages (from matplotlib>=3.3.0->ultralytics) (0.12.1)\n",
            "Requirement already satisfied: fonttools>=4.22.0 in /usr/local/lib/python3.10/dist-packages (from matplotlib>=3.3.0->ultralytics) (4.53.1)\n",
            "Requirement already satisfied: kiwisolver>=1.0.1 in /usr/local/lib/python3.10/dist-packages (from matplotlib>=3.3.0->ultralytics) (1.4.5)\n",
            "Requirement already satisfied: packaging>=20.0 in /usr/local/lib/python3.10/dist-packages (from matplotlib>=3.3.0->ultralytics) (24.1)\n",
            "Requirement already satisfied: pyparsing>=2.3.1 in /usr/local/lib/python3.10/dist-packages (from matplotlib>=3.3.0->ultralytics) (3.1.4)\n",
            "Requirement already satisfied: python-dateutil>=2.7 in /usr/local/lib/python3.10/dist-packages (from matplotlib>=3.3.0->ultralytics) (2.8.2)\n",
            "Requirement already satisfied: pytz>=2020.1 in /usr/local/lib/python3.10/dist-packages (from pandas>=1.1.4->ultralytics) (2024.1)\n",
            "Requirement already satisfied: tzdata>=2022.1 in /usr/local/lib/python3.10/dist-packages (from pandas>=1.1.4->ultralytics) (2024.1)\n",
            "Requirement already satisfied: charset-normalizer<4,>=2 in /usr/local/lib/python3.10/dist-packages (from requests>=2.23.0->ultralytics) (3.3.2)\n",
            "Requirement already satisfied: idna<4,>=2.5 in /usr/local/lib/python3.10/dist-packages (from requests>=2.23.0->ultralytics) (3.8)\n",
            "Requirement already satisfied: urllib3<3,>=1.21.1 in /usr/local/lib/python3.10/dist-packages (from requests>=2.23.0->ultralytics) (2.0.7)\n",
            "Requirement already satisfied: certifi>=2017.4.17 in /usr/local/lib/python3.10/dist-packages (from requests>=2.23.0->ultralytics) (2024.7.4)\n",
            "Requirement already satisfied: filelock in /usr/local/lib/python3.10/dist-packages (from torch>=1.8.0->ultralytics) (3.15.4)\n",
            "Requirement already satisfied: typing-extensions>=4.8.0 in /usr/local/lib/python3.10/dist-packages (from torch>=1.8.0->ultralytics) (4.12.2)\n",
            "Requirement already satisfied: sympy in /usr/local/lib/python3.10/dist-packages (from torch>=1.8.0->ultralytics) (1.13.2)\n",
            "Requirement already satisfied: networkx in /usr/local/lib/python3.10/dist-packages (from torch>=1.8.0->ultralytics) (3.3)\n",
            "Requirement already satisfied: jinja2 in /usr/local/lib/python3.10/dist-packages (from torch>=1.8.0->ultralytics) (3.1.4)\n",
            "Requirement already satisfied: fsspec in /usr/local/lib/python3.10/dist-packages (from torch>=1.8.0->ultralytics) (2024.6.1)\n",
            "Requirement already satisfied: six>=1.5 in /usr/local/lib/python3.10/dist-packages (from python-dateutil>=2.7->matplotlib>=3.3.0->ultralytics) (1.16.0)\n",
            "Requirement already satisfied: MarkupSafe>=2.0 in /usr/local/lib/python3.10/dist-packages (from jinja2->torch>=1.8.0->ultralytics) (2.1.5)\n",
            "Requirement already satisfied: mpmath<1.4,>=1.1.0 in /usr/local/lib/python3.10/dist-packages (from sympy->torch>=1.8.0->ultralytics) (1.3.0)\n",
            "Downloading ultralytics-8.2.85-py3-none-any.whl (872 kB)\n",
            "\u001b[2K   \u001b[90m━━━━━━━━━━━━━━━━━━━━━━━━━━━━━━━━━━━━━━━━\u001b[0m \u001b[32m872.3/872.3 kB\u001b[0m \u001b[31m13.2 MB/s\u001b[0m eta \u001b[36m0:00:00\u001b[0m\n",
            "\u001b[?25hDownloading ultralytics_thop-2.0.6-py3-none-any.whl (26 kB)\n",
            "Installing collected packages: ultralytics-thop, ultralytics\n",
            "Successfully installed ultralytics-8.2.85 ultralytics-thop-2.0.6\n",
            "\u001b[31mERROR: Could not find a version that satisfies the requirement opencv-p (from versions: none)\u001b[0m\u001b[31m\n",
            "\u001b[0m\u001b[31mERROR: No matching distribution found for opencv-p\u001b[0m\u001b[31m\n",
            "\u001b[0m"
          ]
        }
      ]
    },
    {
      "cell_type": "markdown",
      "id": "a69c2ac2",
      "metadata": {
        "id": "a69c2ac2"
      },
      "source": [
        "## Load the YOLO Model"
      ]
    },
    {
      "cell_type": "markdown",
      "id": "145d70fc",
      "metadata": {
        "id": "145d70fc"
      },
      "source": [
        "You will first need to load the YOLO model, there is a custom model for this exam called `YOLO_Model.pt` under Datasets file ⚠️ PLEASE USE THIS MODEL AND DO NOT USE ANY OTHER MODEL ⚠️.\n",
        "Write the code to load the YOLO model below:"
      ]
    },
    {
      "cell_type": "code",
      "source": [
        "import cv2\n",
        "from ultralytics import YOLO\n",
        "\n",
        "model_path = '/content/drive/MyDrive/T5/week6/yolov8n.pt'\n",
        "model = YOLO(model_path)"
      ],
      "metadata": {
        "id": "RpgDE0B_thRd",
        "outputId": "86d17a3b-bf27-4902-93e1-25f88c33c330",
        "colab": {
          "base_uri": "https://localhost:8080/"
        }
      },
      "id": "RpgDE0B_thRd",
      "execution_count": 30,
      "outputs": [
        {
          "output_type": "stream",
          "name": "stdout",
          "text": [
            "Downloading https://github.com/ultralytics/assets/releases/download/v8.2.0/yolov8n.pt to '/content/drive/MyDrive/T5/week6/yolov8n.pt'...\n"
          ]
        },
        {
          "output_type": "stream",
          "name": "stderr",
          "text": [
            "100%|██████████| 6.25M/6.25M [00:00<00:00, 21.3MB/s]\n"
          ]
        }
      ]
    },
    {
      "cell_type": "markdown",
      "id": "cf691ac8",
      "metadata": {
        "id": "cf691ac8"
      },
      "source": [
        "## Prepare the Video Capture"
      ]
    },
    {
      "cell_type": "markdown",
      "metadata": {
        "id": "Nw9RSvKCdonK"
      },
      "source": [
        "Create a variable to capture the video frames, you can use `cv2.VideoCapture()` to achive this."
      ],
      "id": "Nw9RSvKCdonK"
    },
    {
      "cell_type": "code",
      "execution_count": 15,
      "id": "81cfbca1",
      "metadata": {
        "vscode": {
          "languageId": "plaintext"
        },
        "id": "81cfbca1"
      },
      "outputs": [],
      "source": [
        "video_path = '/content/YOLO_Video.mp4'"
      ]
    },
    {
      "cell_type": "code",
      "source": [
        "cap = cv2.VideoCapture(video_path)"
      ],
      "metadata": {
        "id": "E-ZVeQRQVxNE"
      },
      "id": "E-ZVeQRQVxNE",
      "execution_count": 16,
      "outputs": []
    },
    {
      "cell_type": "markdown",
      "id": "48757309",
      "metadata": {
        "id": "48757309"
      },
      "source": [
        "## Get Video Information"
      ]
    },
    {
      "cell_type": "markdown",
      "id": "b4f5d5bc",
      "metadata": {
        "id": "b4f5d5bc"
      },
      "source": [
        "You can use `cv2` library to get these information fro the `VideoCapture()` variable you created to extract these information:\n",
        "* `height`: Video's height.\n",
        "* `width`: Video's width.\n",
        "* `fps`: Video's frames."
      ]
    },
    {
      "cell_type": "code",
      "execution_count": 17,
      "id": "cb8e5ceb",
      "metadata": {
        "vscode": {
          "languageId": "plaintext"
        },
        "id": "cb8e5ceb"
      },
      "outputs": [],
      "source": [
        "width = int(cap.get(cv2.CAP_PROP_FRAME_WIDTH))\n",
        "height = int(cap.get(cv2.CAP_PROP_FRAME_HEIGHT))\n",
        "fps = int(cap.get(cv2.CAP_PROP_FPS))"
      ]
    },
    {
      "cell_type": "code",
      "source": [
        "width"
      ],
      "metadata": {
        "id": "SF4OAf08a4xz",
        "outputId": "f9f063b7-011e-4dec-938f-ddbeefaeed63",
        "colab": {
          "base_uri": "https://localhost:8080/"
        }
      },
      "id": "SF4OAf08a4xz",
      "execution_count": 18,
      "outputs": [
        {
          "output_type": "execute_result",
          "data": {
            "text/plain": [
              "1920"
            ]
          },
          "metadata": {},
          "execution_count": 18
        }
      ]
    },
    {
      "cell_type": "code",
      "source": [
        "height"
      ],
      "metadata": {
        "id": "ES6hDPWia5eZ",
        "outputId": "e3b4d203-1bb6-46c9-f3d3-10ef5ceaacbc",
        "colab": {
          "base_uri": "https://localhost:8080/"
        }
      },
      "id": "ES6hDPWia5eZ",
      "execution_count": 19,
      "outputs": [
        {
          "output_type": "execute_result",
          "data": {
            "text/plain": [
              "1080"
            ]
          },
          "metadata": {},
          "execution_count": 19
        }
      ]
    },
    {
      "cell_type": "code",
      "source": [
        "fps"
      ],
      "metadata": {
        "id": "9G4_N4kxa7E7",
        "outputId": "02f24328-ea2d-47f0-a92c-9da57039ce14",
        "colab": {
          "base_uri": "https://localhost:8080/"
        }
      },
      "id": "9G4_N4kxa7E7",
      "execution_count": 28,
      "outputs": [
        {
          "output_type": "execute_result",
          "data": {
            "text/plain": [
              "29"
            ]
          },
          "metadata": {},
          "execution_count": 28
        }
      ]
    },
    {
      "cell_type": "markdown",
      "id": "3f241495",
      "metadata": {
        "id": "3f241495"
      },
      "source": [
        "## Prepare Video Writer to Store the Output"
      ]
    },
    {
      "cell_type": "markdown",
      "id": "9ef61a34",
      "metadata": {
        "id": "9ef61a34"
      },
      "source": [
        "Create a variable that uses `cv2.VideoCapture()` to save the video with the bounding boxes, specified Region of Interest rectangle (ROI) and the counted vehicles on each sides. You will need to make the video with the same `fps`, `width`, `height`, and specify the codec and output path of the video."
      ]
    },
    {
      "cell_type": "code",
      "execution_count": 21,
      "id": "449562c2",
      "metadata": {
        "vscode": {
          "languageId": "plaintext"
        },
        "id": "449562c2"
      },
      "outputs": [],
      "source": [
        "output_path = '/content/output_video_with_predictions.mp4'\n",
        "fourcc = cv2.VideoWriter_fourcc(*'mp4v')\n",
        "out = cv2.VideoWriter(output_path, fourcc, fps, (width, height))"
      ]
    },
    {
      "cell_type": "markdown",
      "id": "31e882a2",
      "metadata": {
        "id": "31e882a2"
      },
      "source": [
        "## Expermint to get the `(x1, y1, x2, y2)` of the ROI"
      ]
    },
    {
      "cell_type": "markdown",
      "id": "3b6e6d97",
      "metadata": {
        "id": "3b6e6d97"
      },
      "source": [
        "### Hint\n",
        "When defining the Regions of Interest (ROIs) for detecting vehicles exiting the road, consider the coordinates that outline the relevant areas. These coordinates can be specified as `(x1, y1, x2, y2)`, where `(x1, y1)` is the top-left corner and `(x2, y2)` is the bottom-right corner of the rectangle.\n",
        "\n",
        "Experiment with different coordinates to accurately cover the streets where vehicles exit. Visualize these ROIs by drawing rectangles on a frame of the video and adjust the coordinates as needed until you capture the desired areas effectively."
      ]
    },
    {
      "cell_type": "code",
      "source": [
        "def yolobbox2bbox(x,y,w,h):\n",
        "    x1 = int((x - w / 2) * dw)\n",
        "    x2 = int((x + w / 2) * dw)\n",
        "    y1 = int((y - h / 2) * dh)\n",
        "    y2 = int((y + h / 2) * dh)\n",
        "\n",
        "    if x1 < 0:\n",
        "        x1 = 0\n",
        "    if x2 > dw - 1:\n",
        "        x2 = dw - 1\n",
        "    if y1 < 0:\n",
        "        y1 = 0\n",
        "    if y2 > dh - 1:\n",
        "        y2 = dh - 1\n",
        "\n",
        "    return  x1, y1, x2, y2"
      ],
      "metadata": {
        "id": "XTZ8kIRFfvM-"
      },
      "id": "XTZ8kIRFfvM-",
      "execution_count": 30,
      "outputs": []
    },
    {
      "cell_type": "code",
      "source": [
        "# normalized xywh from pixel values\n",
        "def get_yolo_format(x1, y1, x2, y2, img_width, img_height):\n",
        "    x = ((x1 + x2) / 2) / img_width\n",
        "    y = ((y1 + y2) / 2) / img_height\n",
        "    w = (x2 - x1) / img_width\n",
        "    h = (y2 - y1) / img_height\n",
        "    return (x, y, w, h)"
      ],
      "metadata": {
        "id": "-48S0Y2sf07M"
      },
      "id": "-48S0Y2sf07M",
      "execution_count": 31,
      "outputs": []
    },
    {
      "cell_type": "markdown",
      "id": "067dbc12",
      "metadata": {
        "id": "067dbc12"
      },
      "source": [
        "## Process Video Frames and Identify Vehicles Left the Road Form Each Street"
      ]
    },
    {
      "cell_type": "markdown",
      "id": "aa695d88",
      "metadata": {
        "id": "aa695d88"
      },
      "source": [
        "For each frame in the video, use the YOLO model to detect and track vehicles. You will need to write a loop that processes each frame and applies the YOLO model.\n",
        "\n",
        "In each frame, after detecting the vehicles, determine whether they exited the road via the top, bottom, left, or right street. You can use the positions of the bounding boxes provided by YOLO to do this.\n",
        "\n",
        "- The video should display bounding boxes around the detected objects.\n",
        "- The video should display your name on the top.\n",
        "- It should display the calculated center of each vehicle.\n",
        "- The video should display the confidence score, alongside the object ID and class ID of each detected and tracked object.\n",
        "- The video should display the rectangles representing the regions where you count the vehicles that have crossed and exited.\n",
        "- The video should display the number of vehicles that exited via the top street.\n",
        "- The video should display the number of vehicles that exited via the bottom street.\n",
        "- The video should display the number of vehicles that exited via the left street.\n",
        "- The video should display the number of vehicles that exited via the right street."
      ]
    },
    {
      "cell_type": "code",
      "execution_count": 22,
      "id": "877d1d56",
      "metadata": {
        "vscode": {
          "languageId": "plaintext"
        },
        "id": "877d1d56"
      },
      "outputs": [],
      "source": [
        "color = (0, 255, 0)\n",
        "thickness = 3\n",
        "font = cv2.FONT_HERSHEY_SIMPLEX"
      ]
    },
    {
      "cell_type": "code",
      "source": [
        "_ , frame = cap.read()"
      ],
      "metadata": {
        "id": "cWvwr96FrB15"
      },
      "execution_count": 23,
      "outputs": [],
      "id": "cWvwr96FrB15"
    },
    {
      "cell_type": "code",
      "source": [
        "frame"
      ],
      "metadata": {
        "id": "oDWopq9Egt8R",
        "outputId": "ae29517a-c1c6-4f15-9af0-0c5d61311ea8",
        "colab": {
          "base_uri": "https://localhost:8080/"
        }
      },
      "id": "oDWopq9Egt8R",
      "execution_count": 24,
      "outputs": [
        {
          "output_type": "execute_result",
          "data": {
            "text/plain": [
              "array([[[ 41,  77,  72],\n",
              "        [ 54,  90,  85],\n",
              "        [ 38,  79,  73],\n",
              "        ...,\n",
              "        [ 55,  51,  47],\n",
              "        [ 55,  51,  47],\n",
              "        [ 55,  51,  47]],\n",
              "\n",
              "       [[ 22,  58,  53],\n",
              "        [ 49,  85,  80],\n",
              "        [ 33,  74,  68],\n",
              "        ...,\n",
              "        [ 56,  52,  48],\n",
              "        [ 55,  51,  47],\n",
              "        [ 55,  51,  47]],\n",
              "\n",
              "       [[  6,  42,  37],\n",
              "        [ 40,  76,  71],\n",
              "        [ 34,  75,  69],\n",
              "        ...,\n",
              "        [ 55,  51,  47],\n",
              "        [ 55,  51,  47],\n",
              "        [ 54,  50,  46]],\n",
              "\n",
              "       ...,\n",
              "\n",
              "       [[128, 118, 194],\n",
              "        [111, 101, 177],\n",
              "        [ 99,  87, 163],\n",
              "        ...,\n",
              "        [108, 117, 123],\n",
              "        [108, 117, 123],\n",
              "        [108, 117, 123]],\n",
              "\n",
              "       [[117, 100, 183],\n",
              "        [101,  84, 167],\n",
              "        [112, 100, 164],\n",
              "        ...,\n",
              "        [110, 119, 125],\n",
              "        [108, 117, 123],\n",
              "        [108, 117, 123]],\n",
              "\n",
              "       [[ 99,  82, 165],\n",
              "        [106,  89, 172],\n",
              "        [126, 114, 178],\n",
              "        ...,\n",
              "        [110, 119, 125],\n",
              "        [110, 119, 125],\n",
              "        [110, 119, 125]]], dtype=uint8)"
            ]
          },
          "metadata": {},
          "execution_count": 24
        }
      ]
    },
    {
      "cell_type": "code",
      "source": [
        "# the boundry box you want\n",
        "cv2.rectangle(frame, (100, 300), (800, 600), color, thickness)"
      ],
      "metadata": {
        "collapsed": true,
        "id": "aMrZsYq5XVPQ",
        "outputId": "f02001cf-addf-4c30-fdcc-3230f5249fa6",
        "colab": {
          "base_uri": "https://localhost:8080/"
        }
      },
      "id": "aMrZsYq5XVPQ",
      "execution_count": 25,
      "outputs": [
        {
          "output_type": "execute_result",
          "data": {
            "text/plain": [
              "array([[[ 41,  77,  72],\n",
              "        [ 54,  90,  85],\n",
              "        [ 38,  79,  73],\n",
              "        ...,\n",
              "        [ 55,  51,  47],\n",
              "        [ 55,  51,  47],\n",
              "        [ 55,  51,  47]],\n",
              "\n",
              "       [[ 22,  58,  53],\n",
              "        [ 49,  85,  80],\n",
              "        [ 33,  74,  68],\n",
              "        ...,\n",
              "        [ 56,  52,  48],\n",
              "        [ 55,  51,  47],\n",
              "        [ 55,  51,  47]],\n",
              "\n",
              "       [[  6,  42,  37],\n",
              "        [ 40,  76,  71],\n",
              "        [ 34,  75,  69],\n",
              "        ...,\n",
              "        [ 55,  51,  47],\n",
              "        [ 55,  51,  47],\n",
              "        [ 54,  50,  46]],\n",
              "\n",
              "       ...,\n",
              "\n",
              "       [[128, 118, 194],\n",
              "        [111, 101, 177],\n",
              "        [ 99,  87, 163],\n",
              "        ...,\n",
              "        [108, 117, 123],\n",
              "        [108, 117, 123],\n",
              "        [108, 117, 123]],\n",
              "\n",
              "       [[117, 100, 183],\n",
              "        [101,  84, 167],\n",
              "        [112, 100, 164],\n",
              "        ...,\n",
              "        [110, 119, 125],\n",
              "        [108, 117, 123],\n",
              "        [108, 117, 123]],\n",
              "\n",
              "       [[ 99,  82, 165],\n",
              "        [106,  89, 172],\n",
              "        [126, 114, 178],\n",
              "        ...,\n",
              "        [110, 119, 125],\n",
              "        [110, 119, 125],\n",
              "        [110, 119, 125]]], dtype=uint8)"
            ]
          },
          "metadata": {},
          "execution_count": 25
        }
      ]
    },
    {
      "cell_type": "code",
      "source": [
        "\n",
        "# دوال لتحديد إذا كانت السيارة على الجانب الأيسر أو الأيمن\n",
        "leftside = []\n",
        "rightside = []\n",
        "\n",
        "def checkside(center, id):\n",
        "    if center[0] < width // 2:  # إذا كان المركز في الجانب الأيسر\n",
        "        if id not in leftside:\n",
        "            leftside.append(id)\n",
        "        if id in rightside:\n",
        "            rightside.remove(id)\n",
        "    else:  # إذا كان المركز في الجانب الأيمن\n",
        "        if id not in rightside:\n",
        "            rightside.append(id)\n",
        "        if id in leftside:\n",
        "            leftside.remove(id)\n",
        "\n",
        "ret = True\n",
        "while ret:\n",
        "    ret, frame = cap.read()\n",
        "\n",
        "    if not ret:\n",
        "        break\n",
        "\n",
        "    height, width, _ = frame.shape\n",
        "\n",
        "    # إجراء التتبع (استبدل `model.track` بالدالة أو النموذج الخاص بك)\n",
        "    results = model.track(frame, persist=True)  # استبدل model بنموذج التتبع الذي تستخدمه\n",
        "\n",
        "    # معالجة النتائج\n",
        "    for result in results:\n",
        "        for obj in result.boxes:\n",
        "            bbox = obj.xyxy[0].cpu().numpy()  # إحداثيات الصندوق المحيط\n",
        "            class_id = int(obj.cls[0].cpu().numpy()) if obj.cls is not None else -1  # معرف الفئة\n",
        "            conf = obj.conf[0].cpu().numpy() if obj.conf is not None else 0.0  # درجة\n",
        "            id = int(obj.id[0].cpu().numpy()) if obj.id is not None else -1\n",
        "\n",
        "            # تحويل إحداثيات الصندوق إلى أعداد صحيحة\n",
        "            x1, y1, x2, y2 = map(int, bbox)\n",
        "\n",
        "            # رسم المربع\n",
        "            cv2.rectangle(frame, (x1, y1), (x2, y2), color, thickness)\n",
        "\n",
        "            label1 = f'ID: {id} Class: {class_id} Conf: {conf:.2f}'\n",
        "            x_center = (x2 + x1) // 2\n",
        "            y_center = (y1 + y2) // 2\n",
        "            centers = [x_center, y_center]\n",
        "            checkside(centers, id)\n",
        "            label2 = f'Cars on left side: {len(leftside)} Cars on right side: {len(rightside)}'\n",
        "\n",
        "            cv2.putText(frame, label1, (x1, y1 - 10), font, 0.5, color, thickness, cv2.LINE_AA)\n",
        "            cv2.putText(frame, label2, (10, height - 10), font, 0.5, color, thickness, cv2.LINE_AA)\n",
        "\n",
        "    out.write(frame)\n",
        "\n",
        "cap.release()\n",
        "out.release()\n",
        "cv2.destroyAllWindows()\n"
      ],
      "metadata": {
        "id": "Wwh_DC97l6-W"
      },
      "id": "Wwh_DC97l6-W",
      "execution_count": 29,
      "outputs": []
    },
    {
      "cell_type": "markdown",
      "id": "71d3083e",
      "metadata": {
        "id": "71d3083e"
      },
      "source": [
        "## Save and Submit Your Work"
      ]
    },
    {
      "cell_type": "markdown",
      "id": "ae5e33ac",
      "metadata": {
        "id": "ae5e33ac"
      },
      "source": [
        "Submit both the notebook and the output video"
      ]
    }
  ],
  "metadata": {
    "language_info": {
      "name": "python"
    },
    "colab": {
      "provenance": [],
      "gpuType": "T4"
    },
    "kernelspec": {
      "name": "python3",
      "display_name": "Python 3"
    },
    "accelerator": "GPU"
  },
  "nbformat": 4,
  "nbformat_minor": 5
}